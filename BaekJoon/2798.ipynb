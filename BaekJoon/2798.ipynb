{
 "cells": [
  {
   "cell_type": "code",
   "execution_count": 1,
   "metadata": {
    "scrolled": true
   },
   "outputs": [
    {
     "name": "stdout",
     "output_type": "stream",
     "text": [
      "5 21\n",
      "5 6 7 8 9\n",
      "21\n"
     ]
    }
   ],
   "source": [
    "def blackJack() :\n",
    "    max = 0\n",
    "    for A in range (len(cards)) :\n",
    "        for B in range(len(cards)) :\n",
    "            if(B==A) : \n",
    "                continue\n",
    "            for C in range(len(cards)) :\n",
    "                if(C==B) or (C==A) : \n",
    "                    continue\n",
    "                else :\n",
    "                    sum = cards[A]+cards[B]+cards[C]\n",
    "                    # Burst\n",
    "                    if(M<sum):\n",
    "                        continue\n",
    "                    # Black jack\n",
    "                    elif(sum == M) :\n",
    "                        print(sum)\n",
    "                        return\n",
    "                    else :\n",
    "                        if(max < sum):\n",
    "                            max = sum\n",
    "    print(max)\n",
    "                        \n",
    "\n",
    "# Input\n",
    "N,M = map(int,input().split())\n",
    "cards= list(map(int, input().split()))\n",
    "blackJack()\n",
    "\n",
    "# memo\n",
    "# 나는 14번째 줄을 break라고 써서 애먹었다. 이것이 괜히 다른 케이스를 생각하지 못하게 한 것이다"
   ]
  },
  {
   "cell_type": "code",
   "execution_count": null,
   "metadata": {},
   "outputs": [],
   "source": []
  }
 ],
 "metadata": {
  "kernelspec": {
   "display_name": "Python 3",
   "language": "python",
   "name": "python3"
  },
  "language_info": {
   "codemirror_mode": {
    "name": "ipython",
    "version": 3
   },
   "file_extension": ".py",
   "mimetype": "text/x-python",
   "name": "python",
   "nbconvert_exporter": "python",
   "pygments_lexer": "ipython3",
   "version": "3.7.6"
  }
 },
 "nbformat": 4,
 "nbformat_minor": 4
}
