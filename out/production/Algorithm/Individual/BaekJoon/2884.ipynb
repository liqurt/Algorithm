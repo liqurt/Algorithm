{
 "cells": [
  {
   "cell_type": "code",
   "execution_count": 1,
   "metadata": {},
   "outputs": [
    {
     "name": "stdout",
     "output_type": "stream",
     "text": [
      "0 50\n",
      "0 5\n"
     ]
    }
   ],
   "source": [
    "inputSentence = input()\n",
    "H = int(inputSentence.split()[0])\n",
    "M = int(inputSentence.split()[1])\n",
    "if(45<=M) :\n",
    "    print(H,M-45)\n",
    "elif(H==0) :\n",
    "    print(23, M+15)\n",
    "else :\n",
    "    print(H-1,M+15)"
   ]
  },
  {
   "cell_type": "code",
   "execution_count": null,
   "metadata": {},
   "outputs": [],
   "source": []
  }
 ],
 "metadata": {
  "kernelspec": {
   "display_name": "Python 3",
   "language": "python",
   "name": "python3"
  },
  "language_info": {
   "codemirror_mode": {
    "name": "ipython",
    "version": 3
   },
   "file_extension": ".py",
   "mimetype": "text/x-python",
   "name": "python",
   "nbconvert_exporter": "python",
   "pygments_lexer": "ipython3",
   "version": "3.7.6"
  }
 },
 "nbformat": 4,
 "nbformat_minor": 4
}
